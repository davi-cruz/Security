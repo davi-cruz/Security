{
 "cells": [
  {
   "attachments": {},
   "cell_type": "markdown",
   "metadata": {},
   "source": [
    "# Creating Custom Data for Microsoft Sentinel - 3rd Party Security Alerts\n",
    "\n",
    "This notebook will create custom data for Microsoft Sentinel from 3rd party security alerts, in a format that can be ingested by Sentinel.\n",
    "After running this notebook, you will have sample data in a custom table you've specified, where you'll be able to create analytics rules and workbooks, leveraging Sentinel's capabilities for 3rd party security alerts. \n",
    "\n",
    "This is suitable for a POC or demo environment where you want to show how Sentinel can be used to analyze 3rd party security alerts like from a SIEM or other security products."
   ]
  },
  {
   "attachments": {},
   "cell_type": "markdown",
   "metadata": {},
   "source": [
    "## Notebook Initialization"
   ]
  },
  {
   "cell_type": "code",
   "execution_count": null,
   "metadata": {},
   "outputs": [],
   "source": [
    "## Import required libraries\n",
    "import json\n",
    "import requests\n",
    "import datetime\n",
    "import hashlib\n",
    "import hmac\n",
    "import base64"
   ]
  },
  {
   "cell_type": "code",
   "execution_count": 2,
   "metadata": {},
   "outputs": [],
   "source": [
    "######################\n",
    "###### Functions######\n",
    "######################\n",
    "\n",
    "## Build the API signature\n",
    "def build_signature(customer_id, shared_key, date, content_length, method, content_type, resource):\n",
    "    x_headers = 'x-ms-date:' + date\n",
    "    string_to_hash = method + \"\\n\" + \\\n",
    "        str(content_length) + \"\\n\" + content_type + \\\n",
    "        \"\\n\" + x_headers + \"\\n\" + resource\n",
    "    bytes_to_hash = bytes(string_to_hash, encoding=\"utf-8\")\n",
    "    decoded_key = base64.b64decode(shared_key)\n",
    "    encoded_hash = base64.b64encode(hmac.new(\n",
    "        decoded_key, bytes_to_hash, digestmod=hashlib.sha256).digest()).decode()\n",
    "    authorization = \"SharedKey {}:{}\".format(customer_id, encoded_hash)\n",
    "    return authorization\n",
    "\n",
    "## Build and send a request to the POST API\n",
    "def post_data(customer_id, shared_key, body, log_type):\n",
    "    method = 'POST'\n",
    "    content_type = 'application/json'\n",
    "    resource = '/api/logs'\n",
    "    rfc1123date = datetime.datetime.utcnow().strftime('%a, %d %b %Y %H:%M:%S GMT')\n",
    "    content_length = len(body)\n",
    "    signature = build_signature(\n",
    "        customer_id, shared_key, rfc1123date, content_length, method, content_type, resource)\n",
    "    uri = 'https://' + customer_id + '.ods.opinsights.azure.com' + \\\n",
    "        resource + '?api-version=2016-04-01'\n",
    "\n",
    "    headers = {\n",
    "        'content-type': content_type,\n",
    "        'Authorization': signature,\n",
    "        'Log-Type': log_type,\n",
    "        'x-ms-date': rfc1123date\n",
    "    }\n",
    "\n",
    "    response = requests.post(uri, data=body, headers=headers)\n",
    "    if (response.status_code >= 200 and response.status_code <= 299):\n",
    "        print('Accepted')\n",
    "    else:\n",
    "        print(\"Response code: {}\".format(response.status_code))\n",
    "\n",
    "## Write a function to slugfy the name of the log type\n",
    "def slugify(text):\n",
    "    text = text.replace(\" \", \"_\")\n",
    "    return text"
   ]
  },
  {
   "attachments": {},
   "cell_type": "markdown",
   "metadata": {},
   "source": [
    "## Obtaining required information"
   ]
  },
  {
   "cell_type": "code",
   "execution_count": 1,
   "metadata": {},
   "outputs": [],
   "source": [
    "## Get workpace id and shared key from Azure Sentinel\n",
    "customer_id = input(\"Enter your Workspace ID: \")\n",
    "shared_key = input(\"Enter your Workspace Key: \")\n",
    "\n",
    "log_type = \"ELKSecurityAlerts\"\n",
    "\n",
    "if log_type == \"\":\n",
    "    log_type = input(\"Enter the name of the table name: \")\n",
    "\n",
    "## Slugify the name of the log type\n",
    "log_type = slugify(log_type)"
   ]
  },
  {
   "attachments": {},
   "cell_type": "markdown",
   "metadata": {},
   "source": [
    "## Getting the data"
   ]
  },
  {
   "cell_type": "code",
   "execution_count": 12,
   "metadata": {},
   "outputs": [],
   "source": [
    "## Defines json payload\n",
    "json_data = [\n",
    "    {\n",
    "        \"id\": \"170792011\",\n",
    "        \"malfename\": \"Phish.LIVE.DTI.URL\",\n",
    "        \"url_alert\": \"https: //etp.us.fireeye.com/alert/123456789\",\n",
    "        \"mail_from\": \"office@ccbm-usa.com\",\n",
    "        \"domain_from\": \"ccbm-usa.com\",\n",
    "        \"mail_dest\": \"alexw@davicruz.net\",\n",
    "        \"technology\": \"FireEye ETP\",\n",
    "        \"action\": \"Block\",\n",
    "        \"category\": \"email\",\n",
    "        \"hostname\": \"FireEye\",\n",
    "        \"mail_subject\": \"Contoso Bank Invoice/Statement for Account 3224724 202306 \",\n",
    "        \"file_name\": \"\",\n",
    "        \"file_hash\": \"\",\n",
    "        \"url\": \"hxxps://wearsomgmg[dot]yachts/?ijvl\",\n",
    "        \"rid\": \"0\"\n",
    "    }]\n",
    "\n",
    "## Also get content from text file (optional)\n",
    "# file_path = './data.txt'\n",
    "# with open(file_path) as json_file:\n",
    "#     json_data = json.load(json_file)"
   ]
  },
  {
   "cell_type": "code",
   "execution_count": 13,
   "metadata": {},
   "outputs": [
    {
     "name": "stdout",
     "output_type": "stream",
     "text": [
      "Accepted\n"
     ]
    }
   ],
   "source": [
    "## Post data to Log Analytics\n",
    "post_data(customer_id, shared_key, json.dumps(json_data), log_type)"
   ]
  }
 ],
 "metadata": {
  "kernelspec": {
   "display_name": "msticpy",
   "language": "python",
   "name": "python3"
  },
  "language_info": {
   "codemirror_mode": {
    "name": "ipython",
    "version": 3
   },
   "file_extension": ".py",
   "mimetype": "text/x-python",
   "name": "python",
   "nbconvert_exporter": "python",
   "pygments_lexer": "ipython3",
   "version": "3.10.10"
  },
  "orig_nbformat": 4
 },
 "nbformat": 4,
 "nbformat_minor": 2
}
